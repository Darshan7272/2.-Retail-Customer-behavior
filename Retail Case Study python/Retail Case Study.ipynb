{
 "cells": [
  {
   "cell_type": "code",
   "execution_count": 1,
   "metadata": {},
   "outputs": [],
   "source": [
    "import pandas as pd\n",
    "import numpy as np\n",
    "from datetime import datetime\n",
    "import matplotlib.pyplot as plt\n",
    "import seaborn as sns\n"
   ]
  },
  {
   "cell_type": "markdown",
   "metadata": {},
   "source": [
    "1. Merge the datasets Customers, Product Hierarchy and Transactions as Customer_Final. Ensure to\n",
    "keep all customers who have done transactions with us and select the join type accordingly"
   ]
  },
  {
   "cell_type": "code",
   "execution_count": 3,
   "metadata": {},
   "outputs": [],
   "source": [
    "a=pd.read_csv(r'C:\\Users\\nagar\\Documents\\python files\\project\\Case Study 1 - Retail Case Study\\Customer.csv')\n",
    "\n",
    "s=pd.read_csv(r'C:\\Users\\nagar\\Documents\\python files\\project\\Case Study 1 - Retail Case Study\\prod_cat_info.csv')\n",
    "d=pd.read_csv(r'C:\\Users\\nagar\\Documents\\python files\\project\\Case Study 1 - Retail Case Study\\Transactions.csv')"
   ]
  },
  {
   "cell_type": "code",
   "execution_count": 5,
   "metadata": {},
   "outputs": [],
   "source": [
    "a1=pd.merge(a,d,how='inner',left_on='customer_Id',right_on='cust_id')\n",
    "customer_final=pd.merge(a1,s,how='left')\n",
    "\n",
    "customer_final.tran_date=pd.to_datetime(customer_final.tran_date)"
   ]
  },
  {
   "cell_type": "markdown",
   "metadata": {},
   "source": [
    "-2. Prepare a summary report for the merged data set."
   ]
  },
  {
   "cell_type": "code",
   "execution_count": 6,
   "metadata": {},
   "outputs": [
    {
     "name": "stdout",
     "output_type": "stream",
     "text": [
      "the columns and their data type\n",
      "customer_Id                   int64\n",
      "DOB                          object\n",
      "Gender                       object\n",
      "city_code                   float64\n",
      "transaction_id                int64\n",
      "cust_id                       int64\n",
      "tran_date            datetime64[ns]\n",
      "prod_subcat_code              int64\n",
      "prod_cat_code                 int64\n",
      "Qty                           int64\n",
      "Rate                          int64\n",
      "Tax                         float64\n",
      "total_amt                   float64\n",
      "Store_type                   object\n",
      "prod_cat                     object\n",
      "prod_sub_cat_code             int64\n",
      "prod_subcat                  object\n",
      "dtype: object\n",
      "The 10 Top  observation\n",
      "   customer_Id         DOB Gender  city_code  transaction_id  cust_id  \\\n",
      "0       268408  02-01-1970      M        4.0     87243835584   268408   \n",
      "1       268408  02-01-1970      M        4.0     87243835584   268408   \n",
      "2       268408  02-01-1970      M        4.0     87243835584   268408   \n",
      "3       268408  02-01-1970      M        4.0     87243835584   268408   \n",
      "4       268408  02-01-1970      M        4.0     87243835584   268408   \n",
      "5       268408  02-01-1970      M        4.0     87243835584   268408   \n",
      "6       268408  02-01-1970      M        4.0     16197868036   268408   \n",
      "7       268408  02-01-1970      M        4.0     16197868036   268408   \n",
      "8       268408  02-01-1970      M        4.0     16197868036   268408   \n",
      "9       268408  02-01-1970      M        4.0     16197868036   268408   \n",
      "\n",
      "   tran_date  prod_subcat_code  prod_cat_code  Qty  Rate      Tax  total_amt  \\\n",
      "0 2014-01-13                 7              5    5   187   98.175   1033.175   \n",
      "1 2014-01-13                 7              5    5   187   98.175   1033.175   \n",
      "2 2014-01-13                 7              5    5   187   98.175   1033.175   \n",
      "3 2014-01-13                 7              5    5   187   98.175   1033.175   \n",
      "4 2014-01-13                 7              5    5   187   98.175   1033.175   \n",
      "5 2014-01-13                 7              5    5   187   98.175   1033.175   \n",
      "6 2013-12-16                 1              4   -5  -210  110.250  -1160.250   \n",
      "7 2013-12-16                 1              4   -5  -210  110.250  -1160.250   \n",
      "8 2013-12-12                 1              4    5   210  110.250   1160.250   \n",
      "9 2013-12-12                 1              4    5   210  110.250   1160.250   \n",
      "\n",
      "       Store_type prod_cat  prod_sub_cat_code  prod_subcat  \n",
      "0        TeleShop    Books                  7      Fiction  \n",
      "1        TeleShop    Books                 12     Academic  \n",
      "2        TeleShop    Books                 10  Non-Fiction  \n",
      "3        TeleShop    Books                 11     Children  \n",
      "4        TeleShop    Books                  3       Comics  \n",
      "5        TeleShop    Books                  6          DIY  \n",
      "6  Flagship store     Bags                  1         Mens  \n",
      "7  Flagship store     Bags                  4        Women  \n",
      "8  Flagship store     Bags                  1         Mens  \n",
      "9  Flagship store     Bags                  4        Women  \n",
      "The 10 Bottom  observation\n",
      "       customer_Id         DOB Gender  city_code  transaction_id  cust_id  \\\n",
      "99283       274308  29-12-1992      F        5.0     26208690928   274308   \n",
      "99284       274308  29-12-1992      F        5.0     57358822237   274308   \n",
      "99285       274308  29-12-1992      F        5.0     57358822237   274308   \n",
      "99286       274308  29-12-1992      F        5.0     57358822237   274308   \n",
      "99287       274308  29-12-1992      F        5.0     58160544337   274308   \n",
      "99288       274308  29-12-1992      F        5.0     58160544337   274308   \n",
      "99289       274308  29-12-1992      F        5.0     58160544337   274308   \n",
      "99290       274308  29-12-1992      F        5.0     58160544337   274308   \n",
      "99291       274308  29-12-1992      F        5.0     58160544337   274308   \n",
      "99292       274308  29-12-1992      F        5.0     58160544337   274308   \n",
      "\n",
      "       tran_date  prod_subcat_code  prod_cat_code  Qty  Rate     Tax  \\\n",
      "99283 2012-10-22                 1              2    2   898  188.58   \n",
      "99284 2012-05-09                 1              2    4   876  367.92   \n",
      "99285 2012-05-09                 1              2    4   876  367.92   \n",
      "99286 2012-05-09                 1              2    4   876  367.92   \n",
      "99287 2012-04-07                12              5    5   588  308.70   \n",
      "99288 2012-04-07                12              5    5   588  308.70   \n",
      "99289 2012-04-07                12              5    5   588  308.70   \n",
      "99290 2012-04-07                12              5    5   588  308.70   \n",
      "99291 2012-04-07                12              5    5   588  308.70   \n",
      "99292 2012-04-07                12              5    5   588  308.70   \n",
      "\n",
      "       total_amt Store_type  prod_cat  prod_sub_cat_code  prod_subcat  \n",
      "99283    1984.58        MBR  Footwear                  4         Kids  \n",
      "99284    3871.92     e-Shop  Footwear                  1         Mens  \n",
      "99285    3871.92     e-Shop  Footwear                  3        Women  \n",
      "99286    3871.92     e-Shop  Footwear                  4         Kids  \n",
      "99287    3248.70     e-Shop     Books                  7      Fiction  \n",
      "99288    3248.70     e-Shop     Books                 12     Academic  \n",
      "99289    3248.70     e-Shop     Books                 10  Non-Fiction  \n",
      "99290    3248.70     e-Shop     Books                 11     Children  \n",
      "99291    3248.70     e-Shop     Books                  3       Comics  \n",
      "99292    3248.70     e-Shop     Books                  6          DIY  \n",
      "5 number summary of contenous variable\n",
      "         customer_Id     city_code  transaction_id        cust_id  \\\n",
      "count   99293.000000  99257.000000    9.929300e+04   99293.000000   \n",
      "mean   271030.010635      5.467221    5.007320e+10  271030.010635   \n",
      "std      2429.333624      2.859343    2.899361e+10    2429.333624   \n",
      "min    266783.000000      1.000000    3.268991e+06  266783.000000   \n",
      "25%    268956.000000      3.000000    2.492150e+10  268956.000000   \n",
      "50%    270982.000000      5.000000    5.011083e+10  270982.000000   \n",
      "75%    273120.000000      8.000000    7.528121e+10  273120.000000   \n",
      "max    275265.000000     10.000000    9.998755e+10  275265.000000   \n",
      "\n",
      "       prod_subcat_code  prod_cat_code           Qty          Rate  \\\n",
      "count      99293.000000   99293.000000  99293.000000  99293.000000   \n",
      "mean           6.796894       4.003243      2.438017    637.919884   \n",
      "std            3.609439       1.563991      2.260726    621.576326   \n",
      "min            1.000000       1.000000     -5.000000  -1499.000000   \n",
      "25%            4.000000       3.000000      1.000000    313.000000   \n",
      "50%            7.000000       5.000000      3.000000    713.000000   \n",
      "75%           10.000000       5.000000      4.000000   1109.000000   \n",
      "max           12.000000       6.000000      5.000000   1500.000000   \n",
      "\n",
      "                Tax     total_amt  prod_sub_cat_code  \n",
      "count  99293.000000  99293.000000       99293.000000  \n",
      "mean     248.873736   2114.616420           6.806985  \n",
      "std      187.014422   2502.306768           3.615952  \n",
      "min        7.350000  -8270.925000           1.000000  \n",
      "25%       98.280000    762.450000           4.000000  \n",
      "50%      199.920000   1761.370000           7.000000  \n",
      "75%      366.975000   3585.725000          10.000000  \n",
      "max      787.500000   8287.500000          12.000000  \n",
      "Frequncy table of categorical variable\n",
      "DOB         Gender  Store_type  prod_cat          prod_subcat\n",
      "27-12-1988  F       MBR         Books             DIY            7\n",
      "                                                  Academic       7\n",
      "                                                  Non-Fiction    7\n",
      "                                                  Fiction        7\n",
      "                                                  Comics         7\n",
      "                                                                ..\n",
      "19-02-1978  M       e-Shop      Home and kitchen  Kitchen        1\n",
      "                                                  Furnishing     1\n",
      "                                                  Bath           1\n",
      "                                Footwear          Women          1\n",
      "15-06-1980  F       e-Shop      Books             Non-Fiction    1\n",
      "Length: 78080, dtype: int64\n"
     ]
    }
   ],
   "source": [
    "print('the columns and their data type')\n",
    "print(customer_final.dtypes)\n",
    "print('The 10 Top  observation')\n",
    "print(customer_final.head(10))\n",
    "print('The 10 Bottom  observation')\n",
    "print(customer_final.tail(10))\n",
    "print('5 number summary of contenous variable')\n",
    "print(customer_final.select_dtypes('number').describe())\n",
    "print('Frequncy table of categorical variable')\n",
    "print(customer_final.select_dtypes('object').value_counts())"
   ]
  },
  {
   "cell_type": "markdown",
   "metadata": {},
   "source": [
    "3. Generate histograms for all continuous variables and frequency bars for categorical variables.\n"
   ]
  },
  {
   "cell_type": "code",
   "execution_count": 7,
   "metadata": {},
   "outputs": [
    {
     "data": {
      "image/png": "[encoded data removed]",
      "text/plain": [
       "<Figure size 576x432 with 1 Axes>"
      ]
     },
     "metadata": {},
     "output_type": "display_data"
    },
    {
     "data": {
      "image/png": "[encoded data removed]",
      "text/plain": [
       "<Figure size 576x432 with 1 Axes>"
      ]
     },
     "metadata": {},
     "output_type": "display_data"
    },
    {
     "data": {
      "image/png": "[encoded data removed]",
      "text/plain": [
       "<Figure size 576x432 with 1 Axes>"
      ]
     },
     "metadata": {},
     "output_type": "display_data"
    },
    {
     "data": {
      "image/png": "[encoded data removed]",
      "text/plain": [
       "<Figure size 576x432 with 1 Axes>"
      ]
     },
     "metadata": {},
     "output_type": "display_data"
    },
    {
     "data": {
      "image/png": "[encoded data removed]",
      "text/plain": [
       "<Figure size 576x432 with 1 Axes>"
      ]
     },
     "metadata": {},
     "output_type": "display_data"
    },
    {
     "data": {
      "image/png": "[encoded data removed]",
      "text/plain": [
       "<Figure size 576x432 with 1 Axes>"
      ]
     },
     "metadata": {},
     "output_type": "display_data"
    },
    {
     "data": {
      "image/png": "[encoded data removed]",
      "text/plain": [
       "<Figure size 576x432 with 1 Axes>"
      ]
     },
     "metadata": {},
     "output_type": "display_data"
    },
    {
     "data": {
      "image/png": "[encoded data removed]",
      "text/plain": [
       "<Figure size 576x432 with 1 Axes>"
      ]
     },
     "metadata": {},
     "output_type": "display_data"
    }
   ],
   "source": [
    "con=customer_final.select_dtypes('number')[['cust_id',\n",
    "       'prod_subcat_code', 'prod_cat_code', 'Qty', 'Rate', 'Tax', 'total_amt',\n",
    "       'prod_sub_cat_code']].columns\n",
    "for i in con:\n",
    "    plt.figure(figsize=(8, 6))\n",
    "    sns.histplot(customer_final[i],bins=20)\n",
    "    \n",
    "    \n"
   ]
  },
  {
   "cell_type": "code",
   "execution_count": 8,
   "metadata": {},
   "outputs": [
    {
     "data": {
      "image/png": "[encoded data removed]",
      "text/plain": [
       "<Figure size 1008x432 with 1 Axes>"
      ]
     },
     "metadata": {},
     "output_type": "display_data"
    },
    {
     "data": {
      "image/png": "[encoded data removed]",
      "text/plain": [
       "<Figure size 1008x432 with 1 Axes>"
      ]
     },
     "metadata": {},
     "output_type": "display_data"
    },
    {
     "data": {
      "image/png": "[encoded data removed]",
      "text/plain": [
       "<Figure size 1008x432 with 1 Axes>"
      ]
     },
     "metadata": {},
     "output_type": "display_data"
    },
    {
     "data": {
      "image/png": "[encoded data removed]",
      "text/plain": [
       "<Figure size 1008x432 with 1 Axes>"
      ]
     },
     "metadata": {},
     "output_type": "display_data"
    }
   ],
   "source": [
    "cat=customer_final.select_dtypes('object').drop(columns=['DOB']).columns\n",
    "for j in cat:\n",
    "    plt.figure(figsize=(14, 6))\n",
    "    sns.countplot(x=customer_final[j])"
   ]
  },
  {
   "cell_type": "markdown",
   "metadata": {},
   "source": [
    "-4. Calculate the following information using the merged dataset :\n",
    " a. Time period of the available transaction data\n",
    " b. Count of transactions where the total amount of transaction was negativ"
   ]
  },
  {
   "cell_type": "code",
   "execution_count": 9,
   "metadata": {},
   "outputs": [
    {
     "data": {
      "text/plain": [
       "Timedelta('646 days 00:00:00')"
      ]
     },
     "execution_count": 9,
     "metadata": {},
     "output_type": "execute_result"
    }
   ],
   "source": [
    "##a\n",
    "q=customer_final.loc[0,'tran_date']-customer_final.tran_date.iloc[-1]\n",
    "q"
   ]
  },
  {
   "cell_type": "code",
   "execution_count": 10,
   "metadata": {},
   "outputs": [
    {
     "data": {
      "text/plain": [
       "9294"
      ]
     },
     "execution_count": 10,
     "metadata": {},
     "output_type": "execute_result"
    }
   ],
   "source": [
    "##b\n",
    "len(customer_final[customer_final.Qty<0])"
   ]
  },
  {
   "cell_type": "markdown",
   "metadata": {},
   "source": [
    "-5. Analyze which product categories are more popular among females vs male customers."
   ]
  },
  {
   "cell_type": "code",
   "execution_count": 11,
   "metadata": {},
   "outputs": [
    {
     "data": {
      "text/html": [
       "<div>\n",
       "<style scoped>\n",
       "    .dataframe tbody tr th:only-of-type {\n",
       "        vertical-align: middle;\n",
       "    }\n",
       "\n",
       "    .dataframe tbody tr th {\n",
       "        vertical-align: top;\n",
       "    }\n",
       "\n",
       "    .dataframe thead tr th {\n",
       "        text-align: left;\n",
       "    }\n",
       "\n",
       "    .dataframe thead tr:last-of-type th {\n",
       "        text-align: right;\n",
       "    }\n",
       "</style>\n",
       "<table border=\"1\" class=\"dataframe\">\n",
       "  <thead>\n",
       "    <tr>\n",
       "      <th></th>\n",
       "      <th colspan=\"6\" halign=\"left\">sum</th>\n",
       "    </tr>\n",
       "    <tr>\n",
       "      <th>prod_cat</th>\n",
       "      <th>Bags</th>\n",
       "      <th>Books</th>\n",
       "      <th>Clothing</th>\n",
       "      <th>Electronics</th>\n",
       "      <th>Footwear</th>\n",
       "      <th>Home and kitchen</th>\n",
       "    </tr>\n",
       "    <tr>\n",
       "      <th>Gender</th>\n",
       "      <th></th>\n",
       "      <th></th>\n",
       "      <th></th>\n",
       "      <th></th>\n",
       "      <th></th>\n",
       "      <th></th>\n",
       "    </tr>\n",
       "  </thead>\n",
       "  <tbody>\n",
       "    <tr>\n",
       "      <th>F</th>\n",
       "      <td>4724</td>\n",
       "      <td>42420</td>\n",
       "      <td>10275</td>\n",
       "      <td>29160</td>\n",
       "      <td>11148</td>\n",
       "      <td>19580</td>\n",
       "    </tr>\n",
       "    <tr>\n",
       "      <th>M</th>\n",
       "      <td>4692</td>\n",
       "      <td>45522</td>\n",
       "      <td>11244</td>\n",
       "      <td>32380</td>\n",
       "      <td>10665</td>\n",
       "      <td>20164</td>\n",
       "    </tr>\n",
       "  </tbody>\n",
       "</table>\n",
       "</div>"
      ],
      "text/plain": [
       "           sum                                                      \n",
       "prod_cat  Bags  Books Clothing Electronics Footwear Home and kitchen\n",
       "Gender                                                              \n",
       "F         4724  42420    10275       29160    11148            19580\n",
       "M         4692  45522    11244       32380    10665            20164"
      ]
     },
     "execution_count": 11,
     "metadata": {},
     "output_type": "execute_result"
    }
   ],
   "source": [
    "customer_final.groupby(['Gender','prod_cat'])['Qty'].agg(['sum']).unstack()"
   ]
  },
  {
   "cell_type": "markdown",
   "metadata": {},
   "source": [
    "-6. Which City code has the maximum customers and what was the percentage of customers from \n",
    "that city?\n",
    "\n"
   ]
  },
  {
   "cell_type": "code",
   "execution_count": 12,
   "metadata": {},
   "outputs": [
    {
     "name": "stdout",
     "output_type": "stream",
     "text": [
      "City with most customer     10.65\n",
      "Percentage of customer from that city  4.0\n"
     ]
    }
   ],
   "source": [
    "percp=(customer_final.city_code.value_counts().max()/len(customer_final))*100\n",
    "maxci=customer_final.city_code.value_counts().idxmax()\n",
    "print(f'City with most customer     {  percp:.2f}')\n",
    "print(f'Percentage of customer from that city  {  maxci}')"
   ]
  },
  {
   "cell_type": "markdown",
   "metadata": {},
   "source": [
    "-7. Which store type sells the maximum products by value and by quantity?"
   ]
  },
  {
   "cell_type": "code",
   "execution_count": 13,
   "metadata": {},
   "outputs": [
    {
     "data": {
      "text/plain": [
       "Store_type\n",
       "Flagship store    48007\n",
       "Name: Qty, dtype: int64"
      ]
     },
     "execution_count": 13,
     "metadata": {},
     "output_type": "execute_result"
    }
   ],
   "source": [
    "##by quantity\n",
    "customer_final.groupby('Store_type')['Qty'].sum().head(1)"
   ]
  },
  {
   "cell_type": "code",
   "execution_count": 14,
   "metadata": {},
   "outputs": [
    {
     "data": {
      "text/plain": [
       "Store_type\n",
       "Flagship store    41883973.04\n",
       "Name: total_amt, dtype: float64"
      ]
     },
     "execution_count": 14,
     "metadata": {},
     "output_type": "execute_result"
    }
   ],
   "source": [
    "##By sales value\n",
    "customer_final.groupby('Store_type')['total_amt'].sum().head(1)"
   ]
  },
  {
   "cell_type": "markdown",
   "metadata": {},
   "source": [
    "-8. What was the total amount earned from the \"Electronics\" and \"Clothing\" categories from \n",
    "Flagship Stores?"
   ]
  },
  {
   "cell_type": "code",
   "execution_count": 15,
   "metadata": {},
   "outputs": [
    {
     "name": "stdout",
     "output_type": "stream",
     "text": [
      "total amount earned from the \"Electronics\" and \"Clothing\" categories from  Flagship Stores 4343614\n"
     ]
    }
   ],
   "source": [
    "eit=customer_final[customer_final.prod_cat.isin(['Electronics','Clothing'])& (customer_final['Store_type']=='Flagship store')]['Rate'].sum()\n",
    "print(f'total amount earned from the \"Electronics\" and \"Clothing\" categories from  Flagship Stores {eit}')"
   ]
  },
  {
   "cell_type": "markdown",
   "metadata": {},
   "source": [
    "-9. What was the total amount earned from \"Male\" customers under the \"Electronics\" category?"
   ]
  },
  {
   "cell_type": "code",
   "execution_count": 16,
   "metadata": {},
   "outputs": [
    {
     "name": "stdout",
     "output_type": "stream",
     "text": [
      "total amount earned from \"Male\" customers under the \"Electronics\" category 8459400\n"
     ]
    }
   ],
   "source": [
    "nine=customer_final[(customer_final['Gender']=='M')&(customer_final['prod_cat']=='Electronics')]['Rate'].sum()\n",
    "print(f'total amount earned from \"Male\" customers under the \"Electronics\" category {nine}')\n"
   ]
  },
  {
   "cell_type": "markdown",
   "metadata": {},
   "source": [
    "-10. How many customers have more than 10 unique transactions, after removing all transactions \n",
    "which have any negative amounts?\n"
   ]
  },
  {
   "cell_type": "code",
   "execution_count": 71,
   "metadata": {},
   "outputs": [
    {
     "name": "stdout",
     "output_type": "stream",
     "text": [
      "Total customers with no returns, made more than 10 transaction are 6\n"
     ]
    }
   ],
   "source": [
    "tot=d[d.Qty>0].groupby('cust_id')['transaction_id'].count()\n",
    "print(f'Total customers with no returns, made more than 10 transaction are {tot[tot>10].count()}')"
   ]
  },
  {
   "cell_type": "markdown",
   "metadata": {},
   "source": [
    "-11. For all customers aged between 25 - 35, find out:\n",
    " a. What was the total amount spent for “Electronics” and “Books” product categories?\n",
    " b. What was the total amount spent by these customers between 1st Jan, 2014 to 1st Mar, 2014?\n"
   ]
  },
  {
   "cell_type": "code",
   "execution_count": null,
   "metadata": {},
   "outputs": [],
   "source": [
    "##a\n",
    "cust_bet_25_35=customer_final[(customer_final.age>=25)&(customer_final.age<=35)]\n",
    "\n",
    "\n",
    "\n",
    "eb=cust_bet_25_35[cust_bet_25_35['prod_cat'].isin(['Books','Electronics'])]['Rate'].sum()\n",
    "print(f'Total purchase made by people of age between 25 to 35 in BOOKS and ELECTRONICS is {eb}')"
   ]
  },
  {
   "cell_type": "code",
   "execution_count": 183,
   "metadata": {},
   "outputs": [
    {
     "name": "stdout",
     "output_type": "stream",
     "text": [
      "Total payment mede by these people between 1st Jan, 2013 to 1st Mar, 2013 is  4140686\n"
     ]
    }
   ],
   "source": [
    "##B there was no entries between 1st Jan, 2014 to 1st Mar, 2014, hence, I will proceed with year 2013, the final transcation year\n",
    "\n",
    "eleb=final[(final.tran_date>='01-03-2013')&(final.tran_date>='01-01-2013')]['Rate'].sum()\n",
    "print(f'Total payment mede by these people between 1st Jan, 2013 to 1st Mar, 2013 is  {eleb}')"
   ]
  },
  {
   "cell_type": "code",
   "execution_count": null,
   "metadata": {},
   "outputs": [],
   "source": []
  },
  {
   "cell_type": "code",
   "execution_count": null,
   "metadata": {},
   "outputs": [],
   "source": []
  }
 ],
 "metadata": {
  "kernelspec": {
   "display_name": "Python 3",
   "language": "python",
   "name": "python3"
  },
  "language_info": {
   "codemirror_mode": {
    "name": "ipython",
    "version": 3
   },
   "file_extension": ".py",
   "mimetype": "text/x-python",
   "name": "python",
   "nbconvert_exporter": "python",
   "pygments_lexer": "ipython3",
   "version": "3.6.4"
  }
 },
 "nbformat": 4,
 "nbformat_minor": 2
}
